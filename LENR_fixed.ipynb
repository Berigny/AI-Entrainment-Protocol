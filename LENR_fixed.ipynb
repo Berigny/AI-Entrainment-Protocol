{
 "cells": [
  {
   "cell_type": "markdown",
   "metadata": {},
   "source": [
    "# Low Energy Nuclear (LENR) Cycles Model (Fixed)\n",
    "This notebook tests whether a minimal, topology-first model can simulate and falsify a low-energy nuclear reaction (LENR) cycle driven by breath-like EM coherence."
   ]
  },
  {
   "cell_type": "markdown",
   "metadata": {},
   "source": [
    "## 1. Setup & Configuration"
   ]
  },
  {
   "cell_type": "code",
   "execution_count": 1,
   "metadata": {
    "execution": {
     "iopub.execute_input": "2025-09-18T09:16:01.312949Z",
     "iopub.status.busy": "2025-09-18T09:16:01.312664Z",
     "iopub.status.idle": "2025-09-18T09:16:01.406304Z",
     "shell.execute_reply": "2025-09-18T09:16:01.405670Z"
    }
   },
   "outputs": [],
   "source": [
    "# @title 1.1 Config — Toggles & Seeds\n",
    "\n",
    "# CONFIG\n",
    "USE_STAR   = True          # S1 only if False; S1..S4 if True\n",
    "USE_PADIC  = False\n",
    "USE_QUAT   = True          # optional: quaternion state\n",
    "RNG_SEED   = 13\n",
    "\n",
    "import random\n",
    "import numpy as np\n",
    "\n",
    "random.seed(RNG_SEED)\n",
    "np.random.seed(RNG_SEED)"
   ]
  },
  {
   "cell_type": "code",
   "execution_count": 2,
   "metadata": {
    "execution": {
     "iopub.execute_input": "2025-09-18T09:16:01.409879Z",
     "iopub.status.busy": "2025-09-18T09:16:01.409537Z",
     "iopub.status.idle": "2025-09-18T09:16:02.762264Z",
     "shell.execute_reply": "2025-09-18T09:16:02.761067Z"
    }
   },
   "outputs": [],
   "source": [
    "# @title 1.2 Imports\n",
    "\n",
    "import numpy as np\n",
    "import networkx as nx\n",
    "from mpmath import mpf, power\n",
    "import matplotlib.pyplot as plt\n",
    "from collections import defaultdict\n",
    "from scipy.sparse import csr_matrix\n",
    "\n",
    "%matplotlib inline"
   ]
  },
  {
   "cell_type": "markdown",
   "metadata": {},
   "source": [
    "## 2. Geometry & Topology"
   ]
  },
  {
   "cell_type": "code",
   "execution_count": 3,
   "metadata": {
    "execution": {
     "iopub.execute_input": "2025-09-18T09:16:02.766390Z",
     "iopub.status.busy": "2025-09-18T09:16:02.765917Z",
     "iopub.status.idle": "2025-09-18T09:16:02.784749Z",
     "shell.execute_reply": "2025-09-18T09:16:02.783748Z"
    }
   },
   "outputs": [
    {
     "name": "stdout",
     "output_type": "stream",
     "text": [
      "Raw graph edges: 38\n",
      "Policy-enforced graph: |V|=18 |E|=38\n"
     ]
    }
   ],
   "source": [
    "# @title 2.1 Geometry — S1..S4 shells with role policy\n",
    "\n",
    "ROLE_BY_MOD = {0: \"Compression\", 1: \"Expression\", 2: \"Stabilisation\", 3: \"Emission\"}\n",
    "\n",
    "def build_geometry(use_star: bool = True):\n",
    "    \"\"\"Builds the STAR graph geometry before policy enforcement.\"\"\"\n",
    "    G = nx.DiGraph()\n",
    "    nodes = ['C', 'S'] + [str(i) for i in range(16)]\n",
    "    G.add_nodes_from(nodes)\n",
    "    \n",
    "    roles = {n: ('Mediator' if n == 'C' else 'Sink' if n == 'S' else ROLE_BY_MOD[int(n) % 4]) for n in G.nodes()}\n",
    "    shells = {n: (f\"S{1 + int(int(n) / 4)}\" if n.isdigit() else '*') for n in G.nodes()}\n",
    "    \n",
    "    # Add intra-shell edges for all 4 shells\n",
    "    for i in range(4):\n",
    "        b = i * 4\n",
    "        s = [str(b + j) for j in range(4)]\n",
    "        G.add_edge('C', s[1], kind='activation')\n",
    "        G.add_edge(s[1], s[2], kind='work')\n",
    "        G.add_edge(s[2], 'C', kind='squeeze')\n",
    "        G.add_edge('C', s[3], kind='fusion')\n",
    "        G.add_edge(s[3], s[0], kind='heat')\n",
    "        G.add_edge(s[0], 'C', kind='reset')\n",
    "\n",
    "    # Add inter-shell (cubic) and sink edges\n",
    "    for a, b in [(0, 4), (8, 12)]: G.add_edge(str(a), str(b), kind='compression'); G.add_edge(str(b), str(a), kind='compression')\n",
    "    for a, b in [(3, 6), (11, 14)]: G.add_edge(str(a), str(b), kind='work_bridge')\n",
    "    for e_node in [3, 7, 11, 15]: G.add_edge(str(e_node), 'C', kind='heat_bridge')\n",
    "    for e_node in [3, 7, 11, 15]: G.add_edge(str(e_node), 'S', kind='sink')\n",
    "    \n",
    "    # Define the connection policy\n",
    "    policy = {\n",
    "        'Compression': {'out': {'Mediator', 'Compression'}, 'in': {'Emission', 'Compression', 'Mediator'}},\n",
    "        'Expression': {'out': {'Stabilisation', 'Mediator'}, 'in': {'Mediator'}},\n",
    "        'Stabilisation': {'out': {'Mediator'}, 'in': {'Expression', 'Emission'}},\n",
    "        'Emission': {'out': {'Compression', 'Stabilisation', 'Mediator', 'Sink'}, 'in': {'Stabilisation', 'Mediator'}},\n",
    "        'Mediator': {'out': {'Expression', 'Emission', 'Compression', 'Stabilisation', 'Mediator', 'Sink'}, 'in': {'*'}},\n",
    "        'Sink': {'in': {'*'}} \n",
    "    }\n",
    "    return G, roles, shells, policy\n",
    "\n",
    "def enforce_policy(G, roles, policy):\n",
    "    \"\"\"Filters the graph, keeping only edges that conform to the policy.\"\"\"\n",
    "    keep = []\n",
    "    for u, v, data in G.edges(data=True):\n",
    "        ru, rv = roles.get(u, 'Mediator'), roles.get(v, 'Mediator')\n",
    "        allowed_out = policy.get(ru, {}).get('out', set())\n",
    "        allowed_in = policy.get(rv, {}).get('in', set())\n",
    "        if ('*' in allowed_in or ru in allowed_in) and (rv in allowed_out):\n",
    "            keep.append((u, v, data))\n",
    "    \n",
    "    H = nx.DiGraph()\n",
    "    H.add_nodes_from(G.nodes())\n",
    "    H.add_edges_from(keep)\n",
    "    return H\n",
    "\n",
    "# Build and enforce\n",
    "G_raw, roles, shells, policy = build_geometry(USE_STAR)\n",
    "G0 = enforce_policy(G_raw, roles, policy)\n",
    "nx.set_node_attributes(G0, roles, 'role')\n",
    "nx.set_node_attributes(G0, shells, 'shell')\n",
    "G0.graph.update({'roles': roles, 'shells': shells, 'policy': policy})\n",
    "\n",
    "print(f\"Raw graph edges: {G_raw.number_of_edges()}\")\n",
    "print(f\"Policy-enforced graph: |V|={G0.number_of_nodes()} |E|={G0.number_of_edges()}\")"
   ]
  },
  {
   "cell_type": "code",
   "execution_count": 4,
   "metadata": {
    "execution": {
     "iopub.execute_input": "2025-09-18T09:16:02.871591Z",
     "iopub.status.busy": "2025-09-18T09:16:02.871187Z",
     "iopub.status.idle": "2025-09-18T09:16:02.892026Z",
     "shell.execute_reply": "2025-09-18T09:16:02.890879Z"
    }
   },
   "outputs": [
    {
     "name": "stdout",
     "output_type": "stream",
     "text": [
      "[DEC Dims] |V|=18 |E|=40 |F|=40\n",
      "||B1·B2||_∞ = 0.000e+00 (expect 0)\n",
      "Star1/2 SPD? True / True\n"
     ]
    }
   ],
   "source": [
    "# @title 2.2 DEC Backbone — ∂ Operators & Diagonal Hodge Stars\n",
    "\n",
    "def build_dec_backbone(G):\n",
    "    \"\"\"Builds the DEC backbone to match the provided graph G.\"\"\"\n",
    "    # Sort nodes for consistent ordering, handling non-digit nodes\n",
    "    V = sorted(list(G.nodes()), key=lambda x: (not x.isdigit(), int(x) if x.isdigit() else float('inf'), x))\n",
    "    node_id = {v: i for i, v in enumerate(V)}\n",
    "    \n",
    "    # Generate faces for all shells from the graph's shell structure\n",
    "    F = []\n",
    "    shells = nx.get_node_attributes(G, 'shell')\n",
    "    shell_nodes = defaultdict(list)\n",
    "    for node, shell in shells.items():\n",
    "        if shell.startswith('S'):\n",
    "            shell_nodes[shell].append(node)\n",
    "    \n",
    "    for shell, nodes in shell_nodes.items():\n",
    "        # Outer faces of the tetrahedron\n",
    "        F.extend([(nodes[0],nodes[1],nodes[2]), (nodes[0],nodes[1],nodes[3]), (nodes[0],nodes[2],nodes[3]), (nodes[1],nodes[2],nodes[3])])\n",
    "        # Centroid-facing faces\n",
    "        if 'C' in V:\n",
    "            F.extend([(nodes[0],nodes[1],'C'), (nodes[0],nodes[2],'C'), (nodes[0],nodes[3],'C'), (nodes[1],nodes[2],'C'), (nodes[1],nodes[3],'C'), (nodes[2],nodes[3],'C')])\n",
    "    \n",
    "    # Edges are derived from the faces to form the simplicial complex\n",
    "    edges_backbone = sorted({tuple(sorted((a, b))) for a, b, c in F for a, b in [(a, b), (b, c), (c, a)]})\n",
    "    edge_id = {e: i for i, e in enumerate(edges_backbone)}\n",
    "    face_id = {f: i for i, f in enumerate(F)}\n",
    "    \n",
    "    # Boundary Maps\n",
    "    B1 = np.zeros((len(V), len(edges_backbone)), dtype=float)\n",
    "    for (u,v), ei in edge_id.items():\n",
    "        if u in node_id and v in node_id:\n",
    "            B1[node_id[u], ei] = -1.0\n",
    "            B1[node_id[v], ei] = 1.0\n",
    "    B1 = csr_matrix(B1)\n",
    "    \n",
    "    B2 = np.zeros((len(edges_backbone), len(F)), dtype=float)\n",
    "    for fj, (v0, v1, v2) in enumerate(F):\n",
    "        for a, b in [(v0, v1), (v1, v2), (v2, v0)]:\n",
    "            e = tuple(sorted((a,b)))\n",
    "            sign = 1.0 if (a,b) == e else -1.0\n",
    "            if e in edge_id:\n",
    "                B2[edge_id[e], fj] += sign\n",
    "    B2 = csr_matrix(B2)\n",
    "    \n",
    "    # Diagonal Hodge Stars\n",
    "    L = 1.0\n",
    "    len_e = np.full(len(edge_id), L, dtype=float)\n",
    "    area_f = np.full(len(F), (np.sqrt(3)/4.0)*L*L, dtype=float)\n",
    "    dual_e = np.full(len(edge_id), (L*L)/4.0, dtype=float)\n",
    "    dual_f = np.full(len(F), (L/3.0), dtype=float)\n",
    "    Star1 = csr_matrix(np.diag(dual_e / len_e))\n",
    "    Star2 = csr_matrix(np.diag(dual_f / area_f))\n",
    "    \n",
    "    # Audits\n",
    "    inf_norm = np.max(np.abs(B1 @ B2)) if (B1 @ B2).nnz > 0 else 0.0\n",
    "    print(f\"[DEC Dims] |V|={len(V)} |E|={len(edge_id)} |F|={len(F)}\")\n",
    "    print(f\"||B1·B2||_∞ = {inf_norm:.3e} (expect 0)\")\n",
    "    print(f\"Star1/2 SPD? {np.all(Star1.diagonal() > 0)} / {np.all(Star2.diagonal() > 0)}\")\n",
    "    \n",
    "    return V, F, node_id, edge_id, face_id, B1, B2, Star1, Star2\n",
    "\n",
    "V, F, node_id, edge_id, face_id, B1, B2, Star1, Star2 = build_dec_backbone(G0)"
   ]
  },
  {
   "cell_type": "markdown",
   "metadata": {},
   "source": [
    "## 3. Markov Layer & Simulation Engine"
   ]
  },
  {
   "cell_type": "code",
   "execution_count": 5,
   "metadata": {
    "execution": {
     "iopub.execute_input": "2025-09-18T09:16:02.895095Z",
     "iopub.status.busy": "2025-09-18T09:16:02.894821Z",
     "iopub.status.idle": "2025-09-18T09:16:02.904633Z",
     "shell.execute_reply": "2025-09-18T09:16:02.903756Z"
    }
   },
   "outputs": [
    {
     "name": "stdout",
     "output_type": "stream",
     "text": [
      "Markov layer: 38 edges across kinds ['activation', 'compression', 'fusion', 'heat', 'heat_bridge', 'reset', 'sink', 'squeeze', 'work', 'work_bridge']\n"
     ]
    }
   ],
   "source": [
    "# @title 3.1 Markov Layer & Breath Modulation\n",
    "\n",
    "def build_markov(G):\n",
    "    \"\"\"Adds 'rate' and 'kind' attributes to graph edges based on a base dictionary.\"\"\"\n",
    "    base = {\n",
    "        'activation': 0.5, 'work': 0.8, 'squeeze': 0.9, 'fusion': 0.7,\n",
    "        'heat': 1.0, 'reset': 0.3, 'compression': 0.3,\n",
    "        'work_bridge': 0.4, 'heat_bridge': 0.5, 'sink': 0.2\n",
    "    }\n",
    "    rates = {e: base.get(d.get('kind', 'work'), 0.5) for e, d in G.edges.items()}\n",
    "    kinds = {e: d.get('kind', 'work') for e, d in G.edges.items()}\n",
    "    nx.set_edge_attributes(G, rates, 'rate')\n",
    "    nx.set_edge_attributes(G, kinds, 'kind')\n",
    "    return rates, kinds\n",
    "\n",
    "EDGE_RATES, EDGE_KINDS = build_markov(G0)\n",
    "\n",
    "def apply_breath(G_base, step, inhale_gain=1.15, exhale_gain=1.10):\n",
    "    \"\"\"Applies breath-like modulation to edge rates.\"\"\"\n",
    "    phase = 'in' if (step % 2) == 0 else 'out'\n",
    "    G = G_base.copy()\n",
    "    roles = G.graph['roles']\n",
    "    sinks = {n for n, r in roles.items() if r == 'Compression'}\n",
    "    sources = {'C'}\n",
    "    pumps = {n for n, r in roles.items() if r in {'Expression', 'Emission'}}\n",
    "    for u, v, data in G.edges(data=True):\n",
    "        rate = data['rate'] # Start with the base rate\n",
    "        if phase == 'in' and (v in sinks or v in sources): rate *= inhale_gain\n",
    "        elif phase == 'out' and (u in sources and v in pumps): rate *= exhale_gain\n",
    "        data['rate'] = rate # Update the rate for the current step\n",
    "    return G, phase\n",
    "\n",
    "print(f\"Markov layer: {len(EDGE_RATES)} edges across kinds {sorted(set(EDGE_KINDS.values()))}\")"
   ]
  },
  {
   "cell_type": "code",
   "execution_count": 6,
   "metadata": {
    "execution": {
     "iopub.execute_input": "2025-09-18T09:16:02.907471Z",
     "iopub.status.busy": "2025-09-18T09:16:02.907179Z",
     "iopub.status.idle": "2025-09-18T09:16:02.924339Z",
     "shell.execute_reply": "2025-09-18T09:16:02.923350Z"
    }
   },
   "outputs": [
    {
     "name": "stdout",
     "output_type": "stream",
     "text": [
      "Quaternion state initialised.\n"
     ]
    }
   ],
   "source": [
    "# @title 3.2 Quaternion State & Coupling (Optional)\n",
    "\n",
    "def init_quaternion_state(G, roles):\n",
    "    Q = {n: np.zeros(4) for n in G.nodes()}\n",
    "    for n, r in roles.items():\n",
    "        if r == 'Compression': Q[n] = np.array([1.0, 0.0, 0.2, 0.0])\n",
    "        elif r == 'Expression': Q[n] = np.array([0.1, 1.0, 0.0, 0.0])\n",
    "        elif r == 'Stabilisation': Q[n] = np.array([0.0, 0.0, 1.0, 0.1])\n",
    "        elif r == 'Emission': Q[n] = np.array([0.0, 0.1, 0.0, 1.0])\n",
    "    return Q\n",
    "\n",
    "def project(flow_kind, vec):\n",
    "    arr = np.asarray(vec, dtype=float)\n",
    "    if flow_kind in ('work', 'activation'): return float(arr[1])\n",
    "    if flow_kind in ('squeeze', 'reset'): return float(arr[0] + arr[2])\n",
    "    if flow_kind in ('fusion', 'work_bridge'): return float(arr[3] + arr[1])\n",
    "    if flow_kind in ('heat', 'heat_bridge'): return float(arr[3])\n",
    "    if flow_kind == 'compression': return float(arr[0])\n",
    "    if flow_kind == 'sink': return float(arr.sum())\n",
    "    return 0.0\n",
    "\n",
    "QUAT_STATE = init_quaternion_state(G0, roles) if USE_QUAT else {}\n",
    "\n",
    "def _edge_sign_index(u, v, edge_id):\n",
    "    e_sorted = tuple(sorted((u,v)))\n",
    "    if e_sorted in edge_id:\n",
    "        sign = 1.0 if (u,v) == e_sorted else -1.0\n",
    "        return sign, edge_id[e_sorted]\n",
    "    return 0.0, None\n",
    "\n",
    "def markov_to_currents(Gk, edge_id, coherence_gain=0.1, state=None):\n",
    "    J = np.zeros(len(edge_id), dtype=float)\n",
    "    active_kinds = set(EDGE_KINDS.values()) - {'heat', 'heat_bridge', 'sink'}\n",
    "    state = QUAT_STATE if state is None and USE_QUAT else state\n",
    "    for u, v, data in Gk.edges(data=True):\n",
    "        kind, rate = data.get('kind'), data.get('rate', 0.0)\n",
    "        if kind not in active_kinds or rate <= 0.0: continue\n",
    "        sgn, ei = _edge_sign_index(u, v, edge_id)\n",
    "        if ei is None: continue\n",
    "        amp = project(kind, state.get(u, np.zeros(4))) if state else 1.0\n",
    "        J[ei] += sgn * coherence_gain * rate * amp\n",
    "    return J\n",
    "\n",
    "def accumulate_heat(Gk, dt):\n",
    "    heat_kinds = {'heat', 'heat_bridge', 'sink'}\n",
    "    return sum(d.get('rate', 0.0) * dt for u, v, d in Gk.edges(data=True) if d.get('kind') in heat_kinds)\n",
    "\n",
    "if USE_QUAT: print(\"Quaternion state initialised.\")"
   ]
  },
  {
   "cell_type": "code",
   "execution_count": 7,
   "metadata": {
    "execution": {
     "iopub.execute_input": "2025-09-18T09:16:02.927200Z",
     "iopub.status.busy": "2025-09-18T09:16:02.926942Z",
     "iopub.status.idle": "2025-09-18T09:16:02.941861Z",
     "shell.execute_reply": "2025-09-18T09:16:02.940888Z"
    }
   },
   "outputs": [
    {
     "name": "stdout",
     "output_type": "stream",
     "text": [
      "Phase linter function 'linter_fn' created.\n"
     ]
    }
   ],
   "source": [
    "# @title 3.3 Phase Linter\n",
    "\n",
    "def build_phase_linter(G, S1_nodes, S2_nodes):\n",
    "    \"\"\"Builds and returns the linter function.\"\"\"\n",
    "    node_list = sorted(list(G.nodes()), key=lambda x: (not x.isdigit(), int(x) if x.isdigit() else x))\n",
    "    idx = {k: i for i, k in enumerate(node_list)}\n",
    "    n_nodes = len(node_list)\n",
    "    kap = np.zeros((n_nodes, n_nodes))\n",
    "    theta = np.zeros_like(kap)\n",
    "\n",
    "    def _set_k(a, b, val): \n",
    "        if a in idx and b in idx: i, j = idx[a], idx[b]; kap[i,j]=val; kap[j,i]=val\n",
    "    def _set_th(a, b, rad): \n",
    "        if a in idx and b in idx: i, j = idx[a], idx[b]; theta[i,j]=rad; theta[j,i]=-rad\n",
    "\n",
    "    # Define couplings\n",
    "    for U in (S1_nodes, S2_nodes):\n",
    "        for i, u in enumerate(U): \n",
    "            for v in U[i+1:]: _set_k(u, v, 0.02)\n",
    "    _set_k('1', '2', 0.12); _set_th('1', '2', np.pi/2)\n",
    "    if USE_STAR:\n",
    "        _set_k('5', '6', 0.12); _set_th('5', '6', np.pi/2)\n",
    "        _set_k('3', '6', 0.08); _set_th('3', '6', np.pi/2)\n",
    "        for p in [('7','4'), ('7','2'), ('5','0')]: _set_k(*p, 0.05); _set_th(*p, np.pi)\n",
    "\n",
    "    gamma_C = 0.05\n",
    "    phi_state = np.zeros(n_nodes)\n",
    "\n",
    "    def linter_fn(step, dt=0.05, relax_steps=5):\n",
    "        nonlocal phi_state\n",
    "        for _ in range(relax_steps):\n",
    "            d_phi = np.zeros_like(phi_state)\n",
    "            for i, u in enumerate(node_list):\n",
    "                if u == 'C': continue\n",
    "                acc = sum(kap[i,j] * np.sin(phi_state[j] - phi_state[i] - theta[i,j]) for j in range(n_nodes) if i != j)\n",
    "                if 'C' in idx: acc -= gamma_C * np.sin(phi_state[i] - phi_state[idx['C']])\n",
    "                d_phi[i] = acc\n",
    "            phi_state += dt * d_phi\n",
    "            phi_state = (phi_state + np.pi) % (2 * np.pi) - np.pi\n",
    "        \n",
    "        errors = []\n",
    "        def err(a,b,trg): \n",
    "            if a in idx and b in idx: return np.degrees(np.abs(_wrap_pi((phi_state[idx[a]]-phi_state[idx[b]])-trg)))\n",
    "            return np.nan\n",
    "        errors.append(err('1','2',np.pi/2))\n",
    "        if USE_STAR: errors.extend([err('5','6',np.pi/2), err('3','6',np.pi/2)])\n",
    "        return np.nanmean([e for e in errors if np.isfinite(e)])\n",
    "\n",
    "    def _wrap_pi(x): return (x + np.pi) % (2 * np.pi) - np.pi\n",
    "    return linter_fn\n",
    "\n",
    "linter_fn = build_phase_linter(G0, [str(i) for i in range(4)], [str(i) for i in range(4,8)])\n",
    "print(\"Phase linter function 'linter_fn' created.\")"
   ]
  },
  {
   "cell_type": "code",
   "execution_count": 8,
   "metadata": {
    "execution": {
     "iopub.execute_input": "2025-09-18T09:16:02.944965Z",
     "iopub.status.busy": "2025-09-18T09:16:02.944685Z",
     "iopub.status.idle": "2025-09-18T09:16:02.955431Z",
     "shell.execute_reply": "2025-09-18T09:16:02.954469Z"
    }
   },
   "outputs": [
    {
     "name": "stdout",
     "output_type": "stream",
     "text": [
      "Core engine 'run_lenr_core' defined.\n"
     ]
    }
   ],
   "source": [
    "# @title 3.4 Core Engine — Leapfrog DEC Loop\n",
    "\n",
    "def run_lenr_core(\n",
    "    G_base, steps: int = 400, dt: float = 1e-3, coherence_gain: float = 0.1, \n",
    "    report_every: int = 20, state: dict = None):\n",
    "    \"\"\"Runs the main DEC simulation loop.\"\"\"\n",
    "    \n",
    "    B2t = B2.T.toarray()\n",
    "    inv_star1_diag = 1.0 / Star1.diagonal()\n",
    "    \n",
    "    E = np.zeros(B1.shape[1], dtype=float)\n",
    "    B = np.zeros(B2.shape[1], dtype=float)\n",
    "    \n",
    "    # Initial condition: small pump on C->1 if it exists on the backbone\n",
    "    s, C1_idx = _edge_sign_index('C', '1', edge_id)\n",
    "    if C1_idx is not None: E[C1_idx] = 1e-4 * s\n",
    "    \n",
    "    Q_sink = 0.0\n",
    "    U_prev = 0.5 * (E @ Star1 @ E + B @ Star2 @ B) # energy_field(E, B, Star1, Star2)\n",
    "    \n",
    "    hist = {k: [] for k in [\"heat\", \"energy\", \"residual\", \"phase_error\", \"samples\", \"Rc_in\", \"Rc_out\", \"sink_throughput\"]}\n",
    "    hist['dt'] = dt\n",
    "    \n",
    "    def _centroid_reliance_local(Gk):\n",
    "        total = sum(d.get('rate', 0.0) for u,v,d in Gk.edges(data=True))\n",
    "        via_c = sum(d.get('rate', 0.0) for u,v,d in Gk.edges(data=True) if u == 'C' or v == 'C')\n",
    "        return via_c / total if total > 0.0 else 0.0\n",
    "    \n",
    "    for n in range(steps):\n",
    "        Gk, phase = apply_breath(G_base, n)\n",
    "        J = markov_to_currents(Gk, edge_id, coherence_gain, state)\n",
    "        \n",
    "        # Leapfrog step\n",
    "        B = B - dt * (B2t @ E)\n",
    "        drive = B2 @ (Star2 @ B) - J\n",
    "        E = E + dt * (drive * inv_star1_diag)\n",
    "        \n",
    "        # Accounting & Diagnostics\n",
    "        current_heat = accumulate_heat(Gk, dt)\n",
    "        Q_sink += current_heat\n",
    "        U_now = 0.5 * (E @ Star1 @ E + B @ Star2 @ B)\n",
    "        residual = (U_now + Q_sink) - U_prev\n",
    "        U_prev = U_now + Q_sink\n",
    "        \n",
    "        if n % report_every == 0 or n == steps - 1:\n",
    "            hist[\"heat\"].append(Q_sink)\n",
    "            hist[\"energy\"].append(U_now)\n",
    "            hist[\"residual\"].append(residual)\n",
    "            hist[\"samples\"].append(n)\n",
    "            hist[\"phase_error\"].append(linter_fn(n))\n",
    "            hist[\"sink_throughput\"].append(current_heat / dt)\n",
    "            rc = _centroid_reliance_local(Gk)\n",
    "            hist[f\"Rc_{phase}\"].append(rc)\n",
    "            \n",
    "    return hist\n",
    "\n",
    "print(\"Core engine 'run_lenr_core' defined.\")"
   ]
  },
  {
   "cell_type": "markdown",
   "metadata": {},
   "source": [
    "## 4. Simulation & Analysis"
   ]
  },
  {
   "cell_type": "code",
   "execution_count": 9,
   "metadata": {
    "execution": {
     "iopub.execute_input": "2025-09-18T09:16:02.958663Z",
     "iopub.status.busy": "2025-09-18T09:16:02.958340Z",
     "iopub.status.idle": "2025-09-18T09:16:03.918059Z",
     "shell.execute_reply": "2025-09-18T09:16:03.917039Z"
    }
   },
   "outputs": [
    {
     "name": "stdout",
     "output_type": "stream",
     "text": [
      "Simulation complete. History contains keys: ['heat', 'energy', 'residual', 'phase_error', 'samples', 'Rc_in', 'Rc_out', 'sink_throughput', 'dt']\n"
     ]
    }
   ],
   "source": [
    "# @title 4.1 Run Simulation\n",
    "\n",
    "hist = run_lenr_core(\n",
    "    G0, \n",
    "    steps=1000, \n",
    "    dt=1e-3, \n",
    "    coherence_gain=0.25, \n",
    "    report_every=10, \n",
    "    state=QUAT_STATE\n",
    ")\n",
    "\n",
    "print(\"Simulation complete. History contains keys:\", list(hist.keys()))"
   ]
  },
  {
   "cell_type": "code",
   "execution_count": 10,
   "metadata": {
    "execution": {
     "iopub.execute_input": "2025-09-18T09:16:03.921158Z",
     "iopub.status.busy": "2025-09-18T09:16:03.920834Z",
     "iopub.status.idle": "2025-09-18T09:16:03.934009Z",
     "shell.execute_reply": "2025-09-18T09:16:03.933031Z"
    }
   },
   "outputs": [
    {
     "name": "stdout",
     "output_type": "stream",
     "text": [
      "=== Health Report ===\n",
      "|V|=18 |E|=38\n",
      "Residual max |Δ(U+Q)| = 8.273e-03\n",
      "Centroid reliance (mean): in=0.539 out=0.547\n",
      "Sink throughput (mean rate): 7.691\n",
      "Phase samples: 101\n",
      "Phase error mean: 152.023 deg\n",
      "Bursts: 100 | unit ≈ 7.250e-02 | idx (first 10): [1, 2, 3, 4, 5, 6, 7, 8, 9, 10]\n"
     ]
    }
   ],
   "source": [
    "# @title 4.2 Health Reporter\n",
    "\n",
    "def detect_bursts_from_Q(samples, Q, jitter_frac=0.15, min_pos=8):\n",
    "    s = np.asarray(samples, dtype=int)\n",
    "    q = np.asarray(Q, dtype=float)\n",
    "    if len(q) < 3: return dict(n=0, idx=[], unit=np.nan)\n",
    "    dq = np.diff(q)\n",
    "    pos = np.abs(dq[dq > 0])\n",
    "    if len(pos) < min_pos: return dict(n=0, idx=[], unit=np.nan)\n",
    "    unit = float(np.median(pos)); tol = jitter_frac * unit\n",
    "    idxs = []\n",
    "    for i, dqi in enumerate(dq):\n",
    "        if dqi <= 0: continue\n",
    "        k = round(dqi / unit) if unit > 0 else 0\n",
    "        if k <= 0: continue\n",
    "        if abs(dqi - k*unit) <= tol: idxs.append(i+1)\n",
    "    return dict(n=len(idxs), idx=idxs, unit=unit)\n",
    "\n",
    "print(\"=== Health Report ===\")\n",
    "print(f\"|V|={len(G0.nodes())} |E|={len(G0.edges())}\")\n",
    "print(f\"Residual max |Δ(U+Q)| = {np.max(np.abs(hist['residual'])):.3e}\")\n",
    "\n",
    "Rc_in  = np.mean(hist.get('Rc_in',[np.nan]))\n",
    "Rc_out = np.mean(hist.get('Rc_out',[np.nan]))\n",
    "print(f\"Centroid reliance (mean): in={Rc_in:.3f} out={Rc_out:.3f}\")\n",
    "\n",
    "sink_rate = np.mean(hist.get('sink_throughput', [0.0]))\n",
    "print(f\"Sink throughput (mean rate): {sink_rate:.3f}\")\n",
    "\n",
    "print(f\"Phase samples: {len(hist.get('phase_error',[]))}\")\n",
    "print(f\"Phase error mean: {np.mean(hist.get('phase_error', [np.nan])):.3f} deg\")\n",
    "\n",
    "bd = detect_bursts_from_Q(hist['samples'], hist['heat'], jitter_frac=0.15)\n",
    "print(f\"Bursts: {bd['n']} | unit ≈ {bd.get('unit', np.nan):.3e} | idx (first 10): {bd.get('idx', [])[:10]}\")"
   ]
  },
  {
   "cell_type": "code",
   "execution_count": 11,
   "metadata": {
    "execution": {
     "iopub.execute_input": "2025-09-18T09:16:03.937132Z",
     "iopub.status.busy": "2025-09-18T09:16:03.936869Z",
     "iopub.status.idle": "2025-09-18T09:16:04.636880Z",
     "shell.execute_reply": "2025-09-18T09:16:04.635717Z"
    }
   },
   "outputs": [
    {
     "data": {
      "image/png": "[encoded data removed]",
      "text/plain": [
       "<Figure size 960x640 with 4 Axes>"
      ]
     },
     "metadata": {},
     "output_type": "display_data"
    }
   ],
   "source": [
    "# @title 4.3 Visualizations\n",
    "\n",
    "def plot_diagnostics(hist):\n",
    "    s = hist.get(\"samples\", [])\n",
    "    fig, axs = plt.subplots(2, 2, figsize=(12, 8), dpi=80)\n",
    "    \n",
    "    # Energy & Heat\n",
    "    axs[0,0].plot(s, hist.get(\"energy\", []), label=\"Field Energy U\")\n",
    "    axs[0,0].plot(s, hist.get(\"heat\", []), label=\"Cumulative Heat Q\")\n",
    "    axs[0,0].set_title(\"Energy & Heat\")\n",
    "    axs[0,0].legend()\n",
    "    \n",
    "    # Residual\n",
    "    axs[0,1].plot(s, hist.get(\"residual\", []))\n",
    "    axs[0,1].set_title(\"Energy Closure Residual Δ(U+Q)\")\n",
    "    axs[0,1].set_yscale('symlog', linthresh=1e-12)\n",
    "    \n",
    "    # Phase Error\n",
    "    axs[1,0].plot(s, hist.get(\"phase_error\", []))\n",
    "    axs[1,0].set_title(\"Phase Error (deg)\")\n",
    "    \n",
    "    # Centroid Reliance\n",
    "    rc_in_steps = np.linspace(s[0], s[-1], len(hist.get(\"Rc_in\",[])))\n",
    "    rc_out_steps = np.linspace(s[0], s[-1], len(hist.get(\"Rc_out\",[])))\n",
    "    axs[1,1].plot(rc_in_steps, hist.get(\"Rc_in\",[]), 'o-', label='in')\n",
    "    axs[1,1].plot(rc_out_steps, hist.get(\"Rc_out\",[]), 'o-', label='out')\n",
    "    axs[1,1].set_title(\"Centroid Reliance Rc\")\n",
    "    axs[1,1].legend()\n",
    "    \n",
    "    plt.tight_layout()\n",
    "    plt.show()\n",
    "\n",
    "plot_diagnostics(hist)"
   ]
  }
 ],
 "metadata": {
  "colab": {
   "provenance": []
  },
  "kernelspec": {
   "display_name": "Python 3",
   "name": "python3"
  },
  "language_info": {
   "codemirror_mode": {
    "name": "ipython",
    "version": 3
   },
   "file_extension": ".py",
   "mimetype": "text/x-python",
   "name": "python",
   "nbconvert_exporter": "python",
   "pygments_lexer": "ipython3",
   "version": "3.12.11"
  }
 },
 "nbformat": 4,
 "nbformat_minor": 4
}
